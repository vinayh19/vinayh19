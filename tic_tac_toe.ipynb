{
  "nbformat": 4,
  "nbformat_minor": 0,
  "metadata": {
    "colab": {
      "provenance": [],
      "collapsed_sections": [
        "MQFdLS_t3K_C"
      ],
      "include_colab_link": true
    },
    "kernelspec": {
      "name": "python3",
      "display_name": "Python 3"
    },
    "language_info": {
      "name": "python"
    }
  },
  "cells": [
    {
      "cell_type": "markdown",
      "metadata": {
        "id": "view-in-github",
        "colab_type": "text"
      },
      "source": [
        "<a href=\"https://colab.research.google.com/github/vinayh19/vinayh19/blob/ds_learning/tic_tac_toe.ipynb\" target=\"_parent\"><img src=\"https://colab.research.google.com/assets/colab-badge.svg\" alt=\"Open In Colab\"/></a>"
      ]
    },
    {
      "cell_type": "markdown",
      "source": [
        "# This is a code to run the game of Tic-Tac-Toe with an input user vs the system"
      ],
      "metadata": {
        "id": "MQFdLS_t3K_C"
      }
    },
    {
      "cell_type": "code",
      "execution_count": null,
      "metadata": {
        "colab": {
          "base_uri": "https://localhost:8080/",
          "height": 333
        },
        "id": "A4leWmc-2x9l",
        "outputId": "4baa41cb-6886-4543-b862-ed548e9a284b"
      },
      "outputs": [
        {
          "name": "stdout",
          "output_type": "stream",
          "text": [
            "**************************---Introduction---****************************\n",
            "This is a 3X3 tic-tac-toe game with you as Player1 and system as Player2\n",
            "The board positions looks like this:\n",
            " \n",
            "|1|2|3|\n",
            "+-+-+-+\n",
            "|4|5|6|\n",
            "+-+-+-+\n",
            "|7|8|9|\n",
            "\n",
            "************************************************************************\n",
            "\n",
            "Choose your character: 'X' or 'O'? o\n",
            "Player1 is: O  and Player2 (system) is: X\n",
            "\n",
            " Character verified. Valid input.\n",
            "Press enter to continue.\n"
          ]
        },
        {
          "output_type": "execute_result",
          "data": {
            "text/plain": [
              "''"
            ],
            "application/vnd.google.colaboratory.intrinsic+json": {
              "type": "string"
            }
          },
          "metadata": {},
          "execution_count": 38
        }
      ],
      "source": [
        "from os import replace\n",
        "import numpy as np\n",
        "import random\n",
        "# Requesting for the user input position\n",
        "print(\"**************************---Introduction---****************************\")\n",
        "print(\"This is a 3X3 tic-tac-toe game with you as Player1 and system as Player2\")\n",
        "print(\"The board positions looks like this:\\n \\n|1|2|3|\\n+-+-+-+\\n|4|5|6|\\n+-+-+-+\\n|7|8|9|\\n\")\n",
        "print(\"************************************************************************\\n\")\n",
        "\n",
        "def players():\n",
        "  while True:\n",
        "    ch1=input(\"Choose your character: 'X' or 'O'? \")\n",
        "    if ch1.upper()==\"X\":\n",
        "      #ch2=ch2.replace(ch2,\"O\")\n",
        "      ch2=\"O\"\n",
        "      print(\"Player1 is: X  and Player2 (system) is: O\")\n",
        "    elif ch1.upper()==\"O\":\n",
        "      #ch2=ch2.replace(ch2,\"X\")\n",
        "      ch2=\"X\"\n",
        "      print(\"Player1 is: O  and Player2 (system) is: X\")\n",
        "    #else:\n",
        "      #print(\"Invalid input. Choose X or O\")\n",
        "    if (ch1.upper()==\"X\" or ch1.upper()==\"O\") and (ch2.upper()==\"O\" or ch2.upper()==\"X\"):\n",
        "      print(\"\\n Character verified. Valid input.\")\n",
        "      break\n",
        "    else:\n",
        "      print(\"\\nInvalid input!! Choose X or O\")\n",
        "      exit(0)\n",
        "  return ch1,ch2\n",
        "\n",
        "player1_char, player2_char = players()\n",
        "\n",
        "input(\"Press enter to continue.\")"
      ]
    },
    {
      "cell_type": "code",
      "source": [
        "def board(player1_char,player2_char, pos):\n",
        "  print(\"Here is the updated playboard\")\n",
        "  #bd=np.array([[' ',' ',' '],[' ',' ',' '],[' ',' ',' ']])\n",
        "  #pos = {1:bd[0][0], 2:bd[0][1], 3:bd[0][2], 4:bd[1][0], 5:bd[1][1], 6:bd[1][2], 7:bd[2][0], 8:bd[2][1], 9:bd[2][2]}\n",
        "  #print(\"\\n \\n|1|2|3|\\n+-+-+-+\\n|4|5|6|\\n+-+-+-+\\n|7|8|9|\\n\")\n",
        "  bd_up = print(\"\\n|{}|{}|{}|\\n+-+-+-+\\n|{}|{}|{}|\\n+-+-+-+\\n|{}|{}|{}|\\n\".format(pos[1],pos[2],pos[3],pos[4],pos[5],pos[6],pos[7],pos[8],pos[9]))\n",
        "  return bd_up\n",
        "\n",
        "#bd=np.array([[' ',' ',' '],[' ',' ',' '],[' ',' ',' ']])\n",
        "#game_board = board(player1_char, player2_char)\n",
        "#board(player1_char,player2_char)\n",
        "#winning_moves = [[1,2,3],[1,5,9],[1,4,7],[2,6,8],[3,6,9],[4,5,6],[7,8,9],[3,5,7]]"
      ],
      "metadata": {
        "id": "VvSdNsRn3rlc"
      },
      "execution_count": null,
      "outputs": []
    },
    {
      "cell_type": "code",
      "source": [
        "board(\"X\", \"O\", pos)\n",
        "#pos[5]"
      ],
      "metadata": {
        "colab": {
          "base_uri": "https://localhost:8080/"
        },
        "id": "ZQgVYpDL1BsC",
        "outputId": "97447932-2f44-4790-829a-ba04512076cb"
      },
      "execution_count": null,
      "outputs": [
        {
          "output_type": "stream",
          "name": "stdout",
          "text": [
            "Here is the updated playboard\n",
            "\n",
            "|O|O|O|\n",
            "+-+-+-+\n",
            "|O|x| |\n",
            "+-+-+-+\n",
            "| |O|O|\n",
            "\n"
          ]
        }
      ]
    },
    {
      "cell_type": "code",
      "source": [
        "#print(bd)\n",
        "bd=np.array([[' ',' ',' '],[' ',' ',' '],[' ',' ',' ']])\n",
        "pos = {1:bd[0][0], 2:bd[0][1], 3:bd[0][2], 4:bd[1][0], 5:bd[1][1], 6:bd[1][2], 7:bd[2][0], 8:bd[2][1], 9:bd[2][2]}\n",
        "#print(pos)"
      ],
      "metadata": {
        "id": "2rPBdak90n9N"
      },
      "execution_count": null,
      "outputs": []
    },
    {
      "cell_type": "code",
      "source": [
        "def turn(i):\n",
        "  if i%2==0:\n",
        "    print(\"Player1 X's turn\")\n",
        "  elif i%2==1:\n",
        "    print(\"Player2 O's turn\")\n",
        "\n",
        "#move_count(0)"
      ],
      "metadata": {
        "id": "Ywc_JaHs3tB2"
      },
      "execution_count": null,
      "outputs": []
    },
    {
      "cell_type": "code",
      "source": [
        "def make_move(board, turn):\n",
        "  k=0\n",
        "  while k < 10:\n",
        "        move=int(input(\"Enter your move position (1-9): \"))\n",
        "        if move not in range(1,10):\n",
        "            print(\"Incorrect position!! Enter the position based on the 3X3 board (1-9)\")\n",
        "            break\n",
        "            #exit(0)\n",
        "        else:\n",
        "            if pos[move]==' ':\n",
        "                pos[move] = player1_char\n",
        "                #Check_win(board,winning_moves, k, player1_char, player2_char)\n",
        "                #board(player1_char,player2_char, pos)\n",
        "\n",
        "            else:\n",
        "                print(\"Incorrect Move!! Enter the position based on unfilled 3X3 board (1-9)\")\n",
        "        for _ in range(1,9):\n",
        "            sys_mv = random.randint(1,9)\n",
        "            if pos[sys_mv] == ' ':\n",
        "                pos[sys_mv] = player2_char\n",
        "                print(\"System move: \",sys_mv)\n",
        "                k+=2\n",
        "                break\n",
        "            #elif pos[sys_mv] == ' ' and (pos[sys_mv+1]!=player2_char or pos[sys_mv-1]!=player2_char):\n",
        "                #pos[sys_mv] = player2_char\n",
        "                #print(\"System move: \",sys_mv)\n",
        "                #break\n",
        "            elif pos[sys_mv] != ' ':\n",
        "                for key, value in pos.items():\n",
        "                    if value == ' ':\n",
        "                      pos[sys_mv] = player2_char\n",
        "                      print(\"System move: \",sys_mv)\n",
        "                      k+=2\n",
        "                      break\n",
        "                    else:\n",
        "                      print(\"Game Over! \\n Checking the results.....\\n\")\n",
        "            #else:\n",
        "                #print(\"Game Over! \\n Checking the results.....\\n\")\n",
        "  board(player1_char,player2_char, pos)\n"
      ],
      "metadata": {
        "id": "IM9xbo1n0jXm"
      },
      "execution_count": null,
      "outputs": []
    },
    {
      "cell_type": "code",
      "source": [
        "def Check_win(board,winning_moves, k, player1_char, player2_char):\n",
        "  if k > 5:\n",
        "    for i in winning_moves:\n",
        "      points = 0\n",
        "      for j in i:\n",
        "        if pos[j] == player_char1 or pos[j] == player_char2:\n",
        "          points += 1\n",
        "        if points == 3:\n",
        "          return \"Win\"\n",
        "    if k == 8:\n",
        "      return \"Draw\"\n",
        "  else:\n",
        "    return \"continue\"\n",
        "\n"
      ],
      "metadata": {
        "id": "2obTMbLVJPxQ"
      },
      "execution_count": null,
      "outputs": []
    },
    {
      "cell_type": "code",
      "source": [
        "pos_x = []\n",
        "pos_o = []\n",
        "for key, value in pos.items():\n",
        "  if value == 'X' or value == 'x':\n",
        "    pos_x.append(key)\n",
        "  elif value == 'O' or value == 'o':\n",
        "    pos_o.append(key)\n",
        "\n",
        "print(pos_x.sort())\n",
        "#winning_moves[]"
      ],
      "metadata": {
        "colab": {
          "base_uri": "https://localhost:8080/"
        },
        "id": "ehPDYtsC9Fc3",
        "outputId": "1384a6e0-a01a-4c29-efbf-1a906ae26541"
      },
      "execution_count": null,
      "outputs": [
        {
          "output_type": "stream",
          "name": "stdout",
          "text": [
            "None\n"
          ]
        }
      ]
    },
    {
      "cell_type": "code",
      "source": [
        "make_move(board, turn)"
      ],
      "metadata": {
        "colab": {
          "base_uri": "https://localhost:8080/"
        },
        "id": "rV3RCHQMXKjA",
        "outputId": "42ff84a8-fe0e-4425-ab32-23adcd90438c"
      },
      "execution_count": null,
      "outputs": [
        {
          "output_type": "stream",
          "name": "stdout",
          "text": [
            "Enter your move position (1-9): 1\n",
            "Incorrect Move!! Enter the position based on unfilled 3X3 board (1-9)\n",
            "Game Over! \n",
            " Checking the results.....\n",
            "\n",
            "System move:  7\n",
            "System move:  6\n",
            "Enter your move position (1-9): 8\n",
            "Here is the updated playboard\n",
            "\n",
            "|o| | |\n",
            "+-+-+-+\n",
            "| |o|X|\n",
            "+-+-+-+\n",
            "|X|o| |\n",
            "\n",
            "System move:  2\n",
            "Enter your move position (1-9): 2\n",
            "Incorrect Move!! Enter the position based on unfilled 3X3 board (1-9)\n",
            "Game Over! \n",
            " Checking the results.....\n",
            "\n",
            "Game Over! \n",
            " Checking the results.....\n",
            "\n",
            "System move:  5\n",
            "System move:  9\n",
            "Here is the updated playboard\n",
            "\n",
            "|o|X| |\n",
            "+-+-+-+\n",
            "| |X|X|\n",
            "+-+-+-+\n",
            "|X|o|X|\n",
            "\n"
          ]
        }
      ]
    },
    {
      "cell_type": "code",
      "source": [
        "print(pos)"
      ],
      "metadata": {
        "id": "50NdyEsvXONj",
        "colab": {
          "base_uri": "https://localhost:8080/"
        },
        "outputId": "3d7b1747-8d74-4785-9732-7eb361eacea1"
      },
      "execution_count": null,
      "outputs": [
        {
          "output_type": "stream",
          "name": "stdout",
          "text": [
            "{1: 'o', 2: ' ', 3: ' ', 4: ' ', 5: 'o', 6: ' ', 7: 'X', 8: ' ', 9: ' '}\n"
          ]
        }
      ]
    },
    {
      "cell_type": "markdown",
      "source": [
        "# New Tic-tac-toe"
      ],
      "metadata": {
        "id": "gQvsHsjdGxPp"
      }
    },
    {
      "cell_type": "code",
      "source": [
        "from os import replace\n",
        "import numpy as np\n",
        "import random"
      ],
      "metadata": {
        "id": "YsoPTgENHbSd"
      },
      "execution_count": null,
      "outputs": []
    },
    {
      "cell_type": "code",
      "source": [
        "print(\"**************************---Introduction---****************************\")\n",
        "print(\"This is a 3X3 tic-tac-toe game with you as Player1 and system as Player2\")\n",
        "print(\"The board positions looks like this:\\n \\n\\t\\t|(0,0)|(0,1)|(0,2)|\\n\\t\\t+-----+-----+-----+\\n\\t\\t|(1,0)|(1,1)|(1,2)|\\n\\t\\t+-----+-----+-----+\\n\\t\\t|(2,0)|(2,1)|(2,2)|\\n\")\n",
        "print(\"************************************************************************\\n\")"
      ],
      "metadata": {
        "colab": {
          "base_uri": "https://localhost:8080/"
        },
        "id": "lkbKsy5YJimf",
        "outputId": "912d2179-0f0a-493e-9717-436806db202a"
      },
      "execution_count": null,
      "outputs": [
        {
          "output_type": "stream",
          "name": "stdout",
          "text": [
            "**************************---Introduction---****************************\n",
            "This is a 3X3 tic-tac-toe game with you as Player1 and system as Player2\n",
            "The board positions looks like this:\n",
            " \n",
            "\t\t|(0,0)|(0,1)|(0,2)|\n",
            "\t\t+-----+-----+-----+\n",
            "\t\t|(1,0)|(1,1)|(1,2)|\n",
            "\t\t+-----+-----+-----+\n",
            "\t\t|(2,0)|(2,1)|(2,2)|\n",
            "\n",
            "************************************************************************\n",
            "\n"
          ]
        }
      ]
    },
    {
      "cell_type": "code",
      "source": [
        "def players():\n",
        "  while True:\n",
        "    ch1=input(\"Choose your character: 'X' or 'O'? \")\n",
        "    if ch1.upper()==\"X\":\n",
        "      ch2=\"O\"\n",
        "      print(\"Player1 is: X  and Player2 (system) is: O\")\n",
        "    elif ch1.upper()==\"O\":\n",
        "      ch2=\"X\"\n",
        "      print(\"Player1 is: O  and Player2 (system) is: X\")\n",
        "    else:\n",
        "      print(\"Invalid input. Choose X or O\")\n",
        "    if (ch1.upper()==\"X\" or ch1.upper()==\"O\") and (ch2.upper()==\"O\" or ch2.upper()==\"X\"):\n",
        "      print(\"\\n Character verified. Valid input.\")\n",
        "      break\n",
        "    else:\n",
        "      print(\"\\nInvalid input!! Choose X or O\")\n",
        "      exit(0)\n",
        "  return ch1,ch2\n",
        "\n",
        "#ch1, ch2 = players()\n",
        "\n",
        "#input(\"Press enter to continue.\")"
      ],
      "metadata": {
        "id": "C2Fqw7MlGzhz"
      },
      "execution_count": null,
      "outputs": []
    },
    {
      "cell_type": "code",
      "source": [
        "bd=np.array([[' ',' ',' '],[' ',' ',' '],[' ',' ',' ']])\n",
        "\n",
        "def board(bd):\n",
        "  print(\"Here is the current playboard\")\n",
        "  bd_up = print(\"\\n|{}|{}|{}|\\n+-+-+-+\\n|{}|{}|{}|\\n+-+-+-+\\n|{}|{}|{}|\\n\".format(bd[0][0],bd[0][1],bd[0][2],bd[1][0],bd[1][1],bd[1][2],bd[2][0],bd[2][1],bd[2][2]))\n",
        "  return bd_up\n"
      ],
      "metadata": {
        "id": "Tnv527icG7D3"
      },
      "execution_count": null,
      "outputs": []
    },
    {
      "cell_type": "code",
      "source": [
        "def win_check(bd, ch):\n",
        "  for r in range(0,3):\n",
        "    if bd[r][0] == bd[r][1] == bd[r][2] == ch:\n",
        "      return True\n",
        "  for c in range(0,3):\n",
        "    if bd[0][c] == bd[1][c] == bd[2][c] == ch:\n",
        "      return True #print(\"Player {} is the winner\".format(bd[1][c]))\n",
        "  if bd[0][0] == bd[1][1] == bd[2][2] == ch:\n",
        "    return True #print(\"Player {} is the winner\".format(bd[0][0]))\n",
        "  elif bd[0][2] == bd[1][1] == bd[2][0] == ch:\n",
        "    return True #print(\"Player {} is the winner\".format(bd[0][2]))\n",
        "  else:\n",
        "    return False"
      ],
      "metadata": {
        "id": "fnBqRWUoaDHF"
      },
      "execution_count": null,
      "outputs": []
    },
    {
      "cell_type": "code",
      "source": [
        "bd"
      ],
      "metadata": {
        "colab": {
          "base_uri": "https://localhost:8080/"
        },
        "id": "0whgg5LXaonn",
        "outputId": "4fd3912d-766e-4419-a044-470276cec367"
      },
      "execution_count": null,
      "outputs": [
        {
          "output_type": "execute_result",
          "data": {
            "text/plain": [
              "array([[' ', ' ', ' '],\n",
              "       [' ', ' ', ' '],\n",
              "       [' ', ' ', ' ']], dtype='<U1')"
            ]
          },
          "metadata": {},
          "execution_count": 9
        }
      ]
    },
    {
      "cell_type": "code",
      "source": [
        "def play(ch1, ch2):\n",
        "  turn = 0\n",
        "\n",
        "  while turn < 9:\n",
        "    r=int(input(\"for player 1, which ROW do you drop your character at? (0,1,2): \"))\n",
        "    c=int(input(\"for player 1, which COLUMN do you drop your character at? (0,1,2): \"))\n",
        "    if r in range(0,3) and c in range(0,3):\n",
        "      if bd[r][c] == ' ':\n",
        "        bd[r][c] = ch1\n",
        "        board(bd)\n",
        "        turn += 1\n",
        "        print(\"Turn counter: \", turn)\n",
        "        status = win_check(bd, ch1)\n",
        "        if status == True:\n",
        "          print(\"****** Human Player is the winner! ******\")\n",
        "          return 1\n",
        "\n",
        "      else:\n",
        "        print(\"Incorrect Move!! Enter the position based on empty positions in 3X3 board (0,1,2)\", board(ch1,ch2))\n",
        "        continue\n",
        "    else:\n",
        "      print(\"Incorrect position!! Enter the position based on the 3X3 board (0,1,2)\", board(ch1,ch2))\n",
        "      continue\n",
        "\n",
        "    while True:\n",
        "      x=random.randint(0,2)\n",
        "      y=random.randint(0,2)\n",
        "      if bd[x][y] == ' ':\n",
        "        bd[x][y] = ch2\n",
        "        break\n",
        "\n",
        "    board(bd)\n",
        "    status = win_check(bd, ch2)\n",
        "    if status == True:\n",
        "        print(\"System Player is the winner\")\n",
        "        return 1\n",
        "    turn += 1\n",
        "    print(\"Turn counter: \", turn)\n",
        "  if turn == 9:\n",
        "    print(\"Game Over! Game TIED. No one is a Winner \\n\")\n",
        "    return 1\n"
      ],
      "metadata": {
        "id": "CWKVNUwXKi1O"
      },
      "execution_count": null,
      "outputs": []
    },
    {
      "cell_type": "code",
      "source": [],
      "metadata": {
        "id": "s727Xn-Ecn-N"
      },
      "execution_count": null,
      "outputs": []
    },
    {
      "cell_type": "code",
      "source": [
        "def reset_array(bd):\n",
        "  bd.fill(' ')\n",
        "\n",
        "global bd\n",
        "bd = np.array([[' ',' ',' '],[' ',' ',' '],[' ',' ',' ']])"
      ],
      "metadata": {
        "id": "defYWKJH2jVt"
      },
      "execution_count": null,
      "outputs": []
    },
    {
      "cell_type": "code",
      "source": [
        "def main():\n",
        "  reset_array(bd)\n",
        "  ch1, ch2 = players()\n",
        "  board(bd)\n",
        "  R=play(ch1, ch2)\n",
        "  reset_array(bd)\n"
      ],
      "metadata": {
        "id": "P1DlEgbAei2U"
      },
      "execution_count": null,
      "outputs": []
    },
    {
      "cell_type": "code",
      "source": [
        "main()"
      ],
      "metadata": {
        "id": "OG4TK7TXHKMU",
        "colab": {
          "base_uri": "https://localhost:8080/"
        },
        "outputId": "ac134331-e94f-40de-d11f-e2806e5f1014"
      },
      "execution_count": null,
      "outputs": [
        {
          "output_type": "stream",
          "name": "stdout",
          "text": [
            "Choose your character: 'X' or 'O'? x\n",
            "Player1 is: X  and Player2 (system) is: O\n",
            "\n",
            " Character verified. Valid input.\n",
            "Here is the current playboard\n",
            "\n",
            "| | | |\n",
            "+-+-+-+\n",
            "| | | |\n",
            "+-+-+-+\n",
            "| | | |\n",
            "\n",
            "for player 1, which ROW do you drop your character at? (0,1,2): 0\n",
            "for player 1, which COLUMN do you drop your character at? (0,1,2): 0\n",
            "Here is the current playboard\n",
            "\n",
            "|x| | |\n",
            "+-+-+-+\n",
            "| | | |\n",
            "+-+-+-+\n",
            "| | | |\n",
            "\n",
            "Turn counter:  1\n",
            "Here is the current playboard\n",
            "\n",
            "|x| | |\n",
            "+-+-+-+\n",
            "| | | |\n",
            "+-+-+-+\n",
            "| |O| |\n",
            "\n",
            "Turn counter:  2\n",
            "for player 1, which ROW do you drop your character at? (0,1,2): 2\n",
            "for player 1, which COLUMN do you drop your character at? (0,1,2): 2\n",
            "Here is the current playboard\n",
            "\n",
            "|x| | |\n",
            "+-+-+-+\n",
            "| | | |\n",
            "+-+-+-+\n",
            "| |O|x|\n",
            "\n",
            "Turn counter:  3\n",
            "Here is the current playboard\n",
            "\n",
            "|x| | |\n",
            "+-+-+-+\n",
            "|O| | |\n",
            "+-+-+-+\n",
            "| |O|x|\n",
            "\n",
            "Turn counter:  4\n",
            "for player 1, which ROW do you drop your character at? (0,1,2): 1\n",
            "for player 1, which COLUMN do you drop your character at? (0,1,2): 2\n",
            "Here is the current playboard\n",
            "\n",
            "|x| | |\n",
            "+-+-+-+\n",
            "|O| |x|\n",
            "+-+-+-+\n",
            "| |O|x|\n",
            "\n",
            "Turn counter:  5\n",
            "Here is the current playboard\n",
            "\n",
            "|x| | |\n",
            "+-+-+-+\n",
            "|O| |x|\n",
            "+-+-+-+\n",
            "|O|O|x|\n",
            "\n",
            "Turn counter:  6\n",
            "for player 1, which ROW do you drop your character at? (0,1,2): 0\n",
            "for player 1, which COLUMN do you drop your character at? (0,1,2): 1\n",
            "Here is the current playboard\n",
            "\n",
            "|x|x| |\n",
            "+-+-+-+\n",
            "|O| |x|\n",
            "+-+-+-+\n",
            "|O|O|x|\n",
            "\n",
            "Turn counter:  7\n",
            "Here is the current playboard\n",
            "\n",
            "|x|x| |\n",
            "+-+-+-+\n",
            "|O|O|x|\n",
            "+-+-+-+\n",
            "|O|O|x|\n",
            "\n",
            "Turn counter:  8\n",
            "for player 1, which ROW do you drop your character at? (0,1,2): 0\n",
            "for player 1, which COLUMN do you drop your character at? (0,1,2): 2\n",
            "Here is the current playboard\n",
            "\n",
            "|x|x|x|\n",
            "+-+-+-+\n",
            "|O|O|x|\n",
            "+-+-+-+\n",
            "|O|O|x|\n",
            "\n",
            "Turn counter:  9\n",
            "****** Human Player is the winner! ******\n"
          ]
        }
      ]
    },
    {
      "cell_type": "code",
      "source": [],
      "metadata": {
        "id": "x4nmcWg-HTUH"
      },
      "execution_count": null,
      "outputs": []
    }
  ]
}